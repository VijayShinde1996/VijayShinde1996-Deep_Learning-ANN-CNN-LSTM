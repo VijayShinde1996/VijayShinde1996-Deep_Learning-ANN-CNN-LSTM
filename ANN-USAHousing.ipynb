{
 "cells": [
  {
   "cell_type": "code",
   "execution_count": null,
   "id": "6424eb19",
   "metadata": {},
   "outputs": [],
   "source": [
    "#Deep Learning - Artificial Neural Network Implementation - Predict The Housing Price- dataset - USA_Housing"
   ]
  },
  {
   "cell_type": "code",
   "execution_count": 108,
   "id": "a274a0d1",
   "metadata": {},
   "outputs": [],
   "source": [
    "#Step-1 - Load the dataset and check for the NaN values -\n",
    "import numpy as np\n",
    "import pandas as pd\n",
    "import matplotlib.pyplot as plt\n",
    "import seaborn as sns"
   ]
  },
  {
   "cell_type": "code",
   "execution_count": 109,
   "id": "d43b2c02",
   "metadata": {},
   "outputs": [],
   "source": [
    "df=pd.read_csv('F:/VIJAY SHINDE/Courses_undertaken/Data_Science_with_Python/DS_by_TECHNOGEEKS/Daily lectures/September-2022/07-09-2022-Deep_Learning_End_to_End/Artificial_Neural_Network/3-DL-Regression/USA_Housing.csv')"
   ]
  },
  {
   "cell_type": "code",
   "execution_count": 110,
   "id": "cbda5d6f",
   "metadata": {},
   "outputs": [
    {
     "name": "stdout",
     "output_type": "stream",
     "text": [
      "<class 'pandas.core.frame.DataFrame'>\n",
      "RangeIndex: 5000 entries, 0 to 4999\n",
      "Data columns (total 7 columns):\n",
      " #   Column                        Non-Null Count  Dtype  \n",
      "---  ------                        --------------  -----  \n",
      " 0   Avg. Area Income              5000 non-null   float64\n",
      " 1   Avg. Area House Age           5000 non-null   float64\n",
      " 2   Avg. Area Number of Rooms     5000 non-null   float64\n",
      " 3   Avg. Area Number of Bedrooms  5000 non-null   float64\n",
      " 4   Area Population               5000 non-null   float64\n",
      " 5   Price                         5000 non-null   float64\n",
      " 6   Address                       5000 non-null   object \n",
      "dtypes: float64(6), object(1)\n",
      "memory usage: 273.6+ KB\n"
     ]
    }
   ],
   "source": [
    "df.info()"
   ]
  },
  {
   "cell_type": "code",
   "execution_count": 111,
   "id": "88cab06a",
   "metadata": {},
   "outputs": [
    {
     "data": {
      "text/html": [
       "<div>\n",
       "<style scoped>\n",
       "    .dataframe tbody tr th:only-of-type {\n",
       "        vertical-align: middle;\n",
       "    }\n",
       "\n",
       "    .dataframe tbody tr th {\n",
       "        vertical-align: top;\n",
       "    }\n",
       "\n",
       "    .dataframe thead th {\n",
       "        text-align: right;\n",
       "    }\n",
       "</style>\n",
       "<table border=\"1\" class=\"dataframe\">\n",
       "  <thead>\n",
       "    <tr style=\"text-align: right;\">\n",
       "      <th></th>\n",
       "      <th>Avg. Area Income</th>\n",
       "      <th>Avg. Area House Age</th>\n",
       "      <th>Avg. Area Number of Rooms</th>\n",
       "      <th>Avg. Area Number of Bedrooms</th>\n",
       "      <th>Area Population</th>\n",
       "      <th>Price</th>\n",
       "      <th>Address</th>\n",
       "    </tr>\n",
       "  </thead>\n",
       "  <tbody>\n",
       "    <tr>\n",
       "      <th>0</th>\n",
       "      <td>79545.45857</td>\n",
       "      <td>5.682861</td>\n",
       "      <td>7.009188</td>\n",
       "      <td>4.09</td>\n",
       "      <td>23086.80050</td>\n",
       "      <td>1.059034e+06</td>\n",
       "      <td>208 Michael Ferry Apt. 674\\nLaurabury, NE 3701...</td>\n",
       "    </tr>\n",
       "    <tr>\n",
       "      <th>1</th>\n",
       "      <td>79248.64245</td>\n",
       "      <td>6.002900</td>\n",
       "      <td>6.730821</td>\n",
       "      <td>3.09</td>\n",
       "      <td>40173.07217</td>\n",
       "      <td>1.505891e+06</td>\n",
       "      <td>188 Johnson Views Suite 079\\nLake Kathleen, CA...</td>\n",
       "    </tr>\n",
       "    <tr>\n",
       "      <th>2</th>\n",
       "      <td>61287.06718</td>\n",
       "      <td>5.865890</td>\n",
       "      <td>8.512727</td>\n",
       "      <td>5.13</td>\n",
       "      <td>36882.15940</td>\n",
       "      <td>1.058988e+06</td>\n",
       "      <td>9127 Elizabeth Stravenue\\nDanieltown, WI 06482...</td>\n",
       "    </tr>\n",
       "    <tr>\n",
       "      <th>3</th>\n",
       "      <td>63345.24005</td>\n",
       "      <td>7.188236</td>\n",
       "      <td>5.586729</td>\n",
       "      <td>3.26</td>\n",
       "      <td>34310.24283</td>\n",
       "      <td>1.260617e+06</td>\n",
       "      <td>USS Barnett\\nFPO AP 44820</td>\n",
       "    </tr>\n",
       "    <tr>\n",
       "      <th>4</th>\n",
       "      <td>59982.19723</td>\n",
       "      <td>5.040555</td>\n",
       "      <td>7.839388</td>\n",
       "      <td>4.23</td>\n",
       "      <td>26354.10947</td>\n",
       "      <td>6.309435e+05</td>\n",
       "      <td>USNS Raymond\\nFPO AE 09386</td>\n",
       "    </tr>\n",
       "  </tbody>\n",
       "</table>\n",
       "</div>"
      ],
      "text/plain": [
       "   Avg. Area Income  Avg. Area House Age  Avg. Area Number of Rooms  \\\n",
       "0       79545.45857             5.682861                   7.009188   \n",
       "1       79248.64245             6.002900                   6.730821   \n",
       "2       61287.06718             5.865890                   8.512727   \n",
       "3       63345.24005             7.188236                   5.586729   \n",
       "4       59982.19723             5.040555                   7.839388   \n",
       "\n",
       "   Avg. Area Number of Bedrooms  Area Population         Price  \\\n",
       "0                          4.09      23086.80050  1.059034e+06   \n",
       "1                          3.09      40173.07217  1.505891e+06   \n",
       "2                          5.13      36882.15940  1.058988e+06   \n",
       "3                          3.26      34310.24283  1.260617e+06   \n",
       "4                          4.23      26354.10947  6.309435e+05   \n",
       "\n",
       "                                             Address  \n",
       "0  208 Michael Ferry Apt. 674\\nLaurabury, NE 3701...  \n",
       "1  188 Johnson Views Suite 079\\nLake Kathleen, CA...  \n",
       "2  9127 Elizabeth Stravenue\\nDanieltown, WI 06482...  \n",
       "3                          USS Barnett\\nFPO AP 44820  \n",
       "4                         USNS Raymond\\nFPO AE 09386  "
      ]
     },
     "execution_count": 111,
     "metadata": {},
     "output_type": "execute_result"
    }
   ],
   "source": [
    "df.head()"
   ]
  },
  {
   "cell_type": "code",
   "execution_count": 112,
   "id": "c5f774a1",
   "metadata": {},
   "outputs": [
    {
     "data": {
      "text/plain": [
       "array(['208 Michael Ferry Apt. 674\\nLaurabury, NE 37010-5101',\n",
       "       '188 Johnson Views Suite 079\\nLake Kathleen, CA 48958',\n",
       "       '9127 Elizabeth Stravenue\\nDanieltown, WI 06482-3489', ...,\n",
       "       '4215 Tracy Garden Suite 076\\nJoshualand, VA 01707-9165',\n",
       "       'USS Wallace\\nFPO AE 73316',\n",
       "       '37778 George Ridges Apt. 509\\nEast Holly, NV 29290-3595'],\n",
       "      dtype=object)"
      ]
     },
     "execution_count": 112,
     "metadata": {},
     "output_type": "execute_result"
    }
   ],
   "source": [
    "df['Address'].unique()"
   ]
  },
  {
   "cell_type": "code",
   "execution_count": 113,
   "id": "c79fb17e",
   "metadata": {},
   "outputs": [
    {
     "data": {
      "text/html": [
       "<div>\n",
       "<style scoped>\n",
       "    .dataframe tbody tr th:only-of-type {\n",
       "        vertical-align: middle;\n",
       "    }\n",
       "\n",
       "    .dataframe tbody tr th {\n",
       "        vertical-align: top;\n",
       "    }\n",
       "\n",
       "    .dataframe thead th {\n",
       "        text-align: right;\n",
       "    }\n",
       "</style>\n",
       "<table border=\"1\" class=\"dataframe\">\n",
       "  <thead>\n",
       "    <tr style=\"text-align: right;\">\n",
       "      <th></th>\n",
       "      <th>Avg. Area Income</th>\n",
       "      <th>Avg. Area House Age</th>\n",
       "      <th>Avg. Area Number of Rooms</th>\n",
       "      <th>Avg. Area Number of Bedrooms</th>\n",
       "      <th>Area Population</th>\n",
       "      <th>Price</th>\n",
       "    </tr>\n",
       "  </thead>\n",
       "  <tbody>\n",
       "    <tr>\n",
       "      <th>Avg. Area Income</th>\n",
       "      <td>1.000000</td>\n",
       "      <td>-0.002007</td>\n",
       "      <td>-0.011032</td>\n",
       "      <td>0.019788</td>\n",
       "      <td>-0.016234</td>\n",
       "      <td>0.639734</td>\n",
       "    </tr>\n",
       "    <tr>\n",
       "      <th>Avg. Area House Age</th>\n",
       "      <td>-0.002007</td>\n",
       "      <td>1.000000</td>\n",
       "      <td>-0.009428</td>\n",
       "      <td>0.006149</td>\n",
       "      <td>-0.018743</td>\n",
       "      <td>0.452543</td>\n",
       "    </tr>\n",
       "    <tr>\n",
       "      <th>Avg. Area Number of Rooms</th>\n",
       "      <td>-0.011032</td>\n",
       "      <td>-0.009428</td>\n",
       "      <td>1.000000</td>\n",
       "      <td>0.462695</td>\n",
       "      <td>0.002040</td>\n",
       "      <td>0.335664</td>\n",
       "    </tr>\n",
       "    <tr>\n",
       "      <th>Avg. Area Number of Bedrooms</th>\n",
       "      <td>0.019788</td>\n",
       "      <td>0.006149</td>\n",
       "      <td>0.462695</td>\n",
       "      <td>1.000000</td>\n",
       "      <td>-0.022168</td>\n",
       "      <td>0.171071</td>\n",
       "    </tr>\n",
       "    <tr>\n",
       "      <th>Area Population</th>\n",
       "      <td>-0.016234</td>\n",
       "      <td>-0.018743</td>\n",
       "      <td>0.002040</td>\n",
       "      <td>-0.022168</td>\n",
       "      <td>1.000000</td>\n",
       "      <td>0.408556</td>\n",
       "    </tr>\n",
       "    <tr>\n",
       "      <th>Price</th>\n",
       "      <td>0.639734</td>\n",
       "      <td>0.452543</td>\n",
       "      <td>0.335664</td>\n",
       "      <td>0.171071</td>\n",
       "      <td>0.408556</td>\n",
       "      <td>1.000000</td>\n",
       "    </tr>\n",
       "  </tbody>\n",
       "</table>\n",
       "</div>"
      ],
      "text/plain": [
       "                              Avg. Area Income  Avg. Area House Age  \\\n",
       "Avg. Area Income                      1.000000            -0.002007   \n",
       "Avg. Area House Age                  -0.002007             1.000000   \n",
       "Avg. Area Number of Rooms            -0.011032            -0.009428   \n",
       "Avg. Area Number of Bedrooms          0.019788             0.006149   \n",
       "Area Population                      -0.016234            -0.018743   \n",
       "Price                                 0.639734             0.452543   \n",
       "\n",
       "                              Avg. Area Number of Rooms  \\\n",
       "Avg. Area Income                              -0.011032   \n",
       "Avg. Area House Age                           -0.009428   \n",
       "Avg. Area Number of Rooms                      1.000000   \n",
       "Avg. Area Number of Bedrooms                   0.462695   \n",
       "Area Population                                0.002040   \n",
       "Price                                          0.335664   \n",
       "\n",
       "                              Avg. Area Number of Bedrooms  Area Population  \\\n",
       "Avg. Area Income                                  0.019788        -0.016234   \n",
       "Avg. Area House Age                               0.006149        -0.018743   \n",
       "Avg. Area Number of Rooms                         0.462695         0.002040   \n",
       "Avg. Area Number of Bedrooms                      1.000000        -0.022168   \n",
       "Area Population                                  -0.022168         1.000000   \n",
       "Price                                             0.171071         0.408556   \n",
       "\n",
       "                                 Price  \n",
       "Avg. Area Income              0.639734  \n",
       "Avg. Area House Age           0.452543  \n",
       "Avg. Area Number of Rooms     0.335664  \n",
       "Avg. Area Number of Bedrooms  0.171071  \n",
       "Area Population               0.408556  \n",
       "Price                         1.000000  "
      ]
     },
     "execution_count": 113,
     "metadata": {},
     "output_type": "execute_result"
    }
   ],
   "source": [
    "df.corr()"
   ]
  },
  {
   "cell_type": "code",
   "execution_count": 114,
   "id": "d58b1576",
   "metadata": {},
   "outputs": [],
   "source": [
    "#Step-3- split the data in x and y axis veriables - by index locting selection [row,columns]\n",
    "x=df.iloc[:,0:5]\n",
    "y=df.iloc[:,5]"
   ]
  },
  {
   "cell_type": "code",
   "execution_count": 115,
   "id": "1fd0bac7",
   "metadata": {},
   "outputs": [
    {
     "data": {
      "text/html": [
       "<div>\n",
       "<style scoped>\n",
       "    .dataframe tbody tr th:only-of-type {\n",
       "        vertical-align: middle;\n",
       "    }\n",
       "\n",
       "    .dataframe tbody tr th {\n",
       "        vertical-align: top;\n",
       "    }\n",
       "\n",
       "    .dataframe thead th {\n",
       "        text-align: right;\n",
       "    }\n",
       "</style>\n",
       "<table border=\"1\" class=\"dataframe\">\n",
       "  <thead>\n",
       "    <tr style=\"text-align: right;\">\n",
       "      <th></th>\n",
       "      <th>Avg. Area Income</th>\n",
       "      <th>Avg. Area House Age</th>\n",
       "      <th>Avg. Area Number of Rooms</th>\n",
       "      <th>Avg. Area Number of Bedrooms</th>\n",
       "      <th>Area Population</th>\n",
       "    </tr>\n",
       "  </thead>\n",
       "  <tbody>\n",
       "    <tr>\n",
       "      <th>0</th>\n",
       "      <td>79545.45857</td>\n",
       "      <td>5.682861</td>\n",
       "      <td>7.009188</td>\n",
       "      <td>4.09</td>\n",
       "      <td>23086.80050</td>\n",
       "    </tr>\n",
       "    <tr>\n",
       "      <th>1</th>\n",
       "      <td>79248.64245</td>\n",
       "      <td>6.002900</td>\n",
       "      <td>6.730821</td>\n",
       "      <td>3.09</td>\n",
       "      <td>40173.07217</td>\n",
       "    </tr>\n",
       "    <tr>\n",
       "      <th>2</th>\n",
       "      <td>61287.06718</td>\n",
       "      <td>5.865890</td>\n",
       "      <td>8.512727</td>\n",
       "      <td>5.13</td>\n",
       "      <td>36882.15940</td>\n",
       "    </tr>\n",
       "    <tr>\n",
       "      <th>3</th>\n",
       "      <td>63345.24005</td>\n",
       "      <td>7.188236</td>\n",
       "      <td>5.586729</td>\n",
       "      <td>3.26</td>\n",
       "      <td>34310.24283</td>\n",
       "    </tr>\n",
       "    <tr>\n",
       "      <th>4</th>\n",
       "      <td>59982.19723</td>\n",
       "      <td>5.040555</td>\n",
       "      <td>7.839388</td>\n",
       "      <td>4.23</td>\n",
       "      <td>26354.10947</td>\n",
       "    </tr>\n",
       "  </tbody>\n",
       "</table>\n",
       "</div>"
      ],
      "text/plain": [
       "   Avg. Area Income  Avg. Area House Age  Avg. Area Number of Rooms  \\\n",
       "0       79545.45857             5.682861                   7.009188   \n",
       "1       79248.64245             6.002900                   6.730821   \n",
       "2       61287.06718             5.865890                   8.512727   \n",
       "3       63345.24005             7.188236                   5.586729   \n",
       "4       59982.19723             5.040555                   7.839388   \n",
       "\n",
       "   Avg. Area Number of Bedrooms  Area Population  \n",
       "0                          4.09      23086.80050  \n",
       "1                          3.09      40173.07217  \n",
       "2                          5.13      36882.15940  \n",
       "3                          3.26      34310.24283  \n",
       "4                          4.23      26354.10947  "
      ]
     },
     "execution_count": 115,
     "metadata": {},
     "output_type": "execute_result"
    }
   ],
   "source": [
    "x.head()"
   ]
  },
  {
   "cell_type": "code",
   "execution_count": 116,
   "id": "634bc99b",
   "metadata": {},
   "outputs": [
    {
     "data": {
      "text/plain": [
       "array([[ 1.02865969, -0.29692705,  0.02127433,  0.08806222, -1.31759867],\n",
       "       [ 1.00080775,  0.02590164, -0.25550611, -0.72230146,  0.40399945],\n",
       "       [-0.68462915, -0.11230283,  1.5162435 ,  0.93084045,  0.07240989],\n",
       "       ...,\n",
       "       [-0.48723454,  1.28447022, -2.17026949, -1.50025059, -0.29193658],\n",
       "       [-0.05459152, -0.44669439,  0.14154061,  1.18205319,  0.65111608],\n",
       "       [-0.28831272,  0.01521477, -0.19434166,  0.07185495,  1.04162464]])"
      ]
     },
     "execution_count": 116,
     "metadata": {},
     "output_type": "execute_result"
    }
   ],
   "source": [
    "#Lets apply StandardScaler for better scaling -\n",
    "from sklearn.preprocessing import StandardScaler\n",
    "scaler = StandardScaler()\n",
    "scaler.fit(x)\n",
    "x1=scaler.transform(x)\n",
    "x1"
   ]
  },
  {
   "cell_type": "code",
   "execution_count": 117,
   "id": "a51fa74b",
   "metadata": {},
   "outputs": [],
   "source": [
    "#Step-4- Split the data in train_test_split parts -\n",
    "from sklearn.model_selection import train_test_split\n",
    "X_train,X_test,y_train,y_test = train_test_split(x1,y,test_size=0.2,random_state=0)"
   ]
  },
  {
   "cell_type": "code",
   "execution_count": 118,
   "id": "5fa51012",
   "metadata": {},
   "outputs": [
    {
     "name": "stdout",
     "output_type": "stream",
     "text": [
      "(4000, 5)\n",
      "(1000, 5)\n",
      "===========================\n",
      "(4000,)\n",
      "(1000,)\n"
     ]
    }
   ],
   "source": [
    "print(X_train.shape)\n",
    "print(X_test.shape)\n",
    "print('===========================')\n",
    "print(y_train.shape)\n",
    "print(y_test.shape)"
   ]
  },
  {
   "cell_type": "code",
   "execution_count": 119,
   "id": "148e30a8",
   "metadata": {},
   "outputs": [
    {
     "data": {
      "text/plain": [
       "array([[ 1.08972643,  0.70456456,  0.28576277, -0.65747236,  1.26264792],\n",
       "       [ 0.52055327,  0.95065736,  1.27191113, -0.60074691,  1.38997894],\n",
       "       [-0.11251919,  1.25793114,  0.81744082,  1.98431323,  1.28513647],\n",
       "       ...,\n",
       "       [-0.13971308, -0.63628459,  0.38460989,  0.16099495, -0.61875978],\n",
       "       [-1.50529244, -1.10149901,  0.23637492, -0.63316145,  0.51334227],\n",
       "       [ 1.70591172,  0.55779224, -1.87010894, -1.53266514,  1.16488305]])"
      ]
     },
     "execution_count": 119,
     "metadata": {},
     "output_type": "execute_result"
    }
   ],
   "source": [
    "X_train"
   ]
  },
  {
   "cell_type": "code",
   "execution_count": 130,
   "id": "f40c8827",
   "metadata": {},
   "outputs": [],
   "source": [
    "#Step-5- Create object for the Algorithm and Now let's make the Artifical Neural Network Model -\n",
    "import tensorflow as tf\n",
    "import keras\n",
    "from keras.models import Sequential\n",
    "from keras.layers import Dense\n",
    "from keras.layers import ReLU,PReLU,Softmax"
   ]
  },
  {
   "cell_type": "code",
   "execution_count": 121,
   "id": "e8056927",
   "metadata": {},
   "outputs": [],
   "source": [
    "#Initilize the ANN -\n",
    "classifier=Sequential()"
   ]
  },
  {
   "cell_type": "code",
   "execution_count": 122,
   "id": "6ee8ef94",
   "metadata": {},
   "outputs": [],
   "source": [
    "#Adding the Input layer - (Generally as a input units=number of input columns, but you can put asmeny neurons you want -\n",
    "classifier.add(Dense(units=5,kernel_initializer='uniform',activation='relu'))\n",
    "\n",
    "#Classifier.add(create_layer(neurons_required=11,initilize_kernel_weight_matrix,activation_function=ReLU))"
   ]
  },
  {
   "cell_type": "code",
   "execution_count": 123,
   "id": "052d31e7",
   "metadata": {},
   "outputs": [],
   "source": [
    "#Adding the First Hidden layer -\n",
    "classifier.add(Dense(units=6,kernel_initializer='uniform',activation='relu'))"
   ]
  },
  {
   "cell_type": "code",
   "execution_count": 163,
   "id": "8e48e830",
   "metadata": {},
   "outputs": [],
   "source": [
    "#Adding the Output layer -\n",
    "classifier.add(Dense(units=1,kernel_initializer='uniform',activation='relu'))"
   ]
  },
  {
   "cell_type": "code",
   "execution_count": 187,
   "id": "c7728b39",
   "metadata": {},
   "outputs": [],
   "source": [
    "#Lets Compile the layers - \n",
    "classifier.compile(optimizer='adam',loss='mse',metrics='mse')"
   ]
  },
  {
   "cell_type": "code",
   "execution_count": 188,
   "id": "f6c9cd4e",
   "metadata": {},
   "outputs": [],
   "source": [
    "#If we want to apply Early Stopping(Stop Training when monitored metrics stop imporving),Otherwise mention epochs value only \n",
    "import tensorflow as tf\n",
    "early_stopping = tf.keras.callbacks.EarlyStopping(monitor='val_loss',min_delta=0.0001,patience=20,verbose=1,mode='auto',baseline=None,restore_best_weights=False)"
   ]
  },
  {
   "cell_type": "code",
   "execution_count": 189,
   "id": "3d704782",
   "metadata": {},
   "outputs": [
    {
     "name": "stdout",
     "output_type": "stream",
     "text": [
      "Epoch 1/25\n",
      "268/268 [==============================] - 2s 5ms/step - loss: 11318397952.0000 - mse: 11318397952.0000 - val_loss: 11480936448.0000 - val_mse: 11480936448.0000\n",
      "Epoch 2/25\n",
      "268/268 [==============================] - 2s 6ms/step - loss: 11284835328.0000 - mse: 11284835328.0000 - val_loss: 11438555136.0000 - val_mse: 11438555136.0000\n",
      "Epoch 3/25\n",
      "268/268 [==============================] - 2s 6ms/step - loss: 11250371584.0000 - mse: 11250371584.0000 - val_loss: 11434349568.0000 - val_mse: 11434349568.0000\n",
      "Epoch 4/25\n",
      "268/268 [==============================] - 2s 6ms/step - loss: 11219662848.0000 - mse: 11219662848.0000 - val_loss: 11371092992.0000 - val_mse: 11371092992.0000\n",
      "Epoch 5/25\n",
      "268/268 [==============================] - 1s 5ms/step - loss: 11203059712.0000 - mse: 11203059712.0000 - val_loss: 11356980224.0000 - val_mse: 11356980224.0000\n",
      "Epoch 6/25\n",
      "268/268 [==============================] - 2s 6ms/step - loss: 11163964416.0000 - mse: 11163963392.0000 - val_loss: 11366156288.0000 - val_mse: 11366156288.0000\n",
      "Epoch 7/25\n",
      "268/268 [==============================] - 1s 4ms/step - loss: 11156062208.0000 - mse: 11156062208.0000 - val_loss: 11292680192.0000 - val_mse: 11292680192.0000\n",
      "Epoch 8/25\n",
      "268/268 [==============================] - 2s 7ms/step - loss: 11122028544.0000 - mse: 11122028544.0000 - val_loss: 11279809536.0000 - val_mse: 11279809536.0000\n",
      "Epoch 9/25\n",
      "268/268 [==============================] - 2s 7ms/step - loss: 11098218496.0000 - mse: 11098218496.0000 - val_loss: 11248591872.0000 - val_mse: 11248591872.0000\n",
      "Epoch 10/25\n",
      "268/268 [==============================] - 2s 7ms/step - loss: 11076932608.0000 - mse: 11076932608.0000 - val_loss: 11245066240.0000 - val_mse: 11245065216.0000\n",
      "Epoch 11/25\n",
      "268/268 [==============================] - 1s 5ms/step - loss: 11055142912.0000 - mse: 11055142912.0000 - val_loss: 11201588224.0000 - val_mse: 11201588224.0000\n",
      "Epoch 12/25\n",
      "268/268 [==============================] - 2s 6ms/step - loss: 11040673792.0000 - mse: 11040673792.0000 - val_loss: 11184307200.0000 - val_mse: 11184307200.0000\n",
      "Epoch 13/25\n",
      "268/268 [==============================] - 1s 5ms/step - loss: 11019010048.0000 - mse: 11019010048.0000 - val_loss: 11158203392.0000 - val_mse: 11158203392.0000\n",
      "Epoch 14/25\n",
      "268/268 [==============================] - 2s 6ms/step - loss: 10997796864.0000 - mse: 10997796864.0000 - val_loss: 11139053568.0000 - val_mse: 11139052544.0000\n",
      "Epoch 15/25\n",
      "268/268 [==============================] - 2s 6ms/step - loss: 10970203136.0000 - mse: 10970203136.0000 - val_loss: 11131416576.0000 - val_mse: 11131416576.0000\n",
      "Epoch 16/25\n",
      "268/268 [==============================] - 2s 6ms/step - loss: 10955134976.0000 - mse: 10955134976.0000 - val_loss: 11101796352.0000 - val_mse: 11101795328.0000\n",
      "Epoch 17/25\n",
      "268/268 [==============================] - 2s 6ms/step - loss: 10933495808.0000 - mse: 10933495808.0000 - val_loss: 11095478272.0000 - val_mse: 11095476224.0000\n",
      "Epoch 18/25\n",
      "268/268 [==============================] - 2s 7ms/step - loss: 10920207360.0000 - mse: 10920207360.0000 - val_loss: 11094349824.0000 - val_mse: 11094349824.0000\n",
      "Epoch 19/25\n",
      "268/268 [==============================] - 2s 7ms/step - loss: 10900548608.0000 - mse: 10900548608.0000 - val_loss: 11048527872.0000 - val_mse: 11048527872.0000\n",
      "Epoch 20/25\n",
      "268/268 [==============================] - 2s 7ms/step - loss: 10892205056.0000 - mse: 10892205056.0000 - val_loss: 11034321920.0000 - val_mse: 11034321920.0000\n",
      "Epoch 21/25\n",
      "268/268 [==============================] - 1s 5ms/step - loss: 10869044224.0000 - mse: 10869045248.0000 - val_loss: 11020204032.0000 - val_mse: 11020204032.0000\n",
      "Epoch 22/25\n",
      "268/268 [==============================] - 1s 5ms/step - loss: 10857814016.0000 - mse: 10857814016.0000 - val_loss: 11007141888.0000 - val_mse: 11007141888.0000\n",
      "Epoch 23/25\n",
      "268/268 [==============================] - 1s 4ms/step - loss: 10840399872.0000 - mse: 10840398848.0000 - val_loss: 10990244864.0000 - val_mse: 10990246912.0000\n",
      "Epoch 24/25\n",
      "268/268 [==============================] - 2s 6ms/step - loss: 10825703424.0000 - mse: 10825703424.0000 - val_loss: 10979600384.0000 - val_mse: 10979600384.0000\n",
      "Epoch 25/25\n",
      "268/268 [==============================] - 1s 6ms/step - loss: 10805669888.0000 - mse: 10805669888.0000 - val_loss: 10962414592.0000 - val_mse: 10962414592.0000\n"
     ]
    }
   ],
   "source": [
    "#Lets fit the model - Here [callbacks=early_stopping] is optional, if you dont want early stopping then dont use it -\n",
    "model_history = classifier.fit(X_train,y_train,batch_size=10,epochs=25,validation_split=0.33,callbacks=early_stopping)"
   ]
  },
  {
   "cell_type": "code",
   "execution_count": 190,
   "id": "9ab4a3a0",
   "metadata": {},
   "outputs": [
    {
     "name": "stdout",
     "output_type": "stream",
     "text": [
      "32/32 [==============================] - 0s 3ms/step\n"
     ]
    }
   ],
   "source": [
    "#Step-6- Predict the Y-axis values - \n",
    "predict_ann=classifier.predict(X_test)\n",
    "predict_ann = (predict_ann > 0.5)"
   ]
  },
  {
   "cell_type": "code",
   "execution_count": 193,
   "id": "475037d8",
   "metadata": {},
   "outputs": [
    {
     "name": "stdout",
     "output_type": "stream",
     "text": [
      "1643188691183.4746\n"
     ]
    }
   ],
   "source": [
    "#Step-7- Model Evaluation and Error check -\n",
    "from sklearn import metrics\n",
    "print(metrics.mean_squared_error(y_test, predict_ann))"
   ]
  },
  {
   "cell_type": "code",
   "execution_count": null,
   "id": "9329f634",
   "metadata": {},
   "outputs": [],
   "source": [
    "#.......................................Lets Make some Fun................................................................."
   ]
  },
  {
   "cell_type": "code",
   "execution_count": 194,
   "id": "58de0b24",
   "metadata": {},
   "outputs": [
    {
     "data": {
      "text/plain": [
       "dict_keys(['loss', 'mse', 'val_loss', 'val_mse'])"
      ]
     },
     "execution_count": 194,
     "metadata": {},
     "output_type": "execute_result"
    }
   ],
   "source": [
    "model_history.history.keys()"
   ]
  },
  {
   "cell_type": "code",
   "execution_count": 195,
   "id": "c10f6d0f",
   "metadata": {},
   "outputs": [
    {
     "data": {
      "text/plain": [
       "<matplotlib.legend.Legend object at 0x00000212F246E190>"
      ]
     },
     "execution_count": 195,
     "metadata": {},
     "output_type": "execute_result"
    },
    {
     "data": {
      "image/png": "[encoded data removed]",
      "text/plain": [
       "<Figure size 640x480 with 1 Axes>"
      ]
     },
     "metadata": {},
     "output_type": "display_data"
    }
   ],
   "source": [
    "#summarize history for accuracy\n",
    "plt.plot(model_history.history['loss'])\n",
    "plt.plot(model_history.history['val_loss'])\n",
    "plt.title('model accuracy')\n",
    "plt.ylabel('accuracy')\n",
    "plt.xlabel('epoch')\n",
    "plt.legend(['train', 'test'], loc='upper left')"
   ]
  },
  {
   "cell_type": "code",
   "execution_count": 196,
   "id": "5c1f971c",
   "metadata": {},
   "outputs": [
    {
     "data": {
      "text/plain": [
       "<matplotlib.legend.Legend object at 0x00000212F64B7B50>"
      ]
     },
     "execution_count": 196,
     "metadata": {},
     "output_type": "execute_result"
    },
    {
     "data": {
      "image/png": "[encoded data removed]",
      "text/plain": [
       "<Figure size 640x480 with 1 Axes>"
      ]
     },
     "metadata": {},
     "output_type": "display_data"
    }
   ],
   "source": [
    "# summarize history for loss\n",
    "plt.plot(model_history.history['mse'])\n",
    "plt.plot(model_history.history['val_mse'])\n",
    "plt.title('model loss')\n",
    "plt.ylabel('loss')\n",
    "plt.xlabel('epoch')\n",
    "plt.legend(['train', 'test'], loc='upper left')"
   ]
  },
  {
   "cell_type": "code",
   "execution_count": null,
   "id": "0d468931",
   "metadata": {},
   "outputs": [],
   "source": [
    "#Thank You................................................................"
   ]
  }
 ],
 "metadata": {
  "kernelspec": {
   "display_name": "Python 3 (ipykernel)",
   "language": "python",
   "name": "python3"
  },
  "language_info": {
   "codemirror_mode": {
    "name": "ipython",
    "version": 3
   },
   "file_extension": ".py",
   "mimetype": "text/x-python",
   "name": "python",
   "nbconvert_exporter": "python",
   "pygments_lexer": "ipython3",
   "version": "3.9.13"
  }
 },
 "nbformat": 4,
 "nbformat_minor": 5
}
