{
 "cells": [
  {
   "cell_type": "code",
   "execution_count": 105,
   "id": "6424eb19",
   "metadata": {},
   "outputs": [],
   "source": [
    "#Deep Learning - Artificial Neural Network Implementation - Predict whether Customer Exited/not -Dataset - Churn_Modelling"
   ]
  },
  {
   "cell_type": "code",
   "execution_count": 106,
   "id": "a274a0d1",
   "metadata": {},
   "outputs": [],
   "source": [
    "#Step-1 - Load the dataset and check for the NaN values -\n",
    "import numpy as np\n",
    "import pandas as pd\n",
    "import matplotlib.pyplot as plt\n",
    "import seaborn as sns"
   ]
  },
  {
   "cell_type": "code",
   "execution_count": 107,
   "id": "d43b2c02",
   "metadata": {},
   "outputs": [],
   "source": [
    "df=pd.read_csv('F:/VIJAY SHINDE/Courses_undertaken/Data_Science_with_Python/DS_by_TECHNOGEEKS/Daily lectures/September-2022/07-09-2022-Deep_Learning_End_to_End/Churn_Modelling.csv')"
   ]
  },
  {
   "cell_type": "code",
   "execution_count": 108,
   "id": "cbda5d6f",
   "metadata": {},
   "outputs": [
    {
     "name": "stdout",
     "output_type": "stream",
     "text": [
      "<class 'pandas.core.frame.DataFrame'>\n",
      "RangeIndex: 10000 entries, 0 to 9999\n",
      "Data columns (total 14 columns):\n",
      " #   Column           Non-Null Count  Dtype  \n",
      "---  ------           --------------  -----  \n",
      " 0   RowNumber        10000 non-null  int64  \n",
      " 1   CustomerId       10000 non-null  int64  \n",
      " 2   Surname          10000 non-null  object \n",
      " 3   CreditScore      10000 non-null  int64  \n",
      " 4   Geography        10000 non-null  object \n",
      " 5   Gender           10000 non-null  object \n",
      " 6   Age              10000 non-null  int64  \n",
      " 7   Tenure           10000 non-null  int64  \n",
      " 8   Balance          10000 non-null  float64\n",
      " 9   NumOfProducts    10000 non-null  int64  \n",
      " 10  HasCrCard        10000 non-null  int64  \n",
      " 11  IsActiveMember   10000 non-null  int64  \n",
      " 12  EstimatedSalary  10000 non-null  float64\n",
      " 13  Exited           10000 non-null  int64  \n",
      "dtypes: float64(2), int64(9), object(3)\n",
      "memory usage: 1.1+ MB\n"
     ]
    }
   ],
   "source": [
    "df.info()"
   ]
  },
  {
   "cell_type": "code",
   "execution_count": 109,
   "id": "88cab06a",
   "metadata": {},
   "outputs": [
    {
     "data": {
      "text/html": [
       "<div>\n",
       "<style scoped>\n",
       "    .dataframe tbody tr th:only-of-type {\n",
       "        vertical-align: middle;\n",
       "    }\n",
       "\n",
       "    .dataframe tbody tr th {\n",
       "        vertical-align: top;\n",
       "    }\n",
       "\n",
       "    .dataframe thead th {\n",
       "        text-align: right;\n",
       "    }\n",
       "</style>\n",
       "<table border=\"1\" class=\"dataframe\">\n",
       "  <thead>\n",
       "    <tr style=\"text-align: right;\">\n",
       "      <th></th>\n",
       "      <th>RowNumber</th>\n",
       "      <th>CustomerId</th>\n",
       "      <th>Surname</th>\n",
       "      <th>CreditScore</th>\n",
       "      <th>Geography</th>\n",
       "      <th>Gender</th>\n",
       "      <th>Age</th>\n",
       "      <th>Tenure</th>\n",
       "      <th>Balance</th>\n",
       "      <th>NumOfProducts</th>\n",
       "      <th>HasCrCard</th>\n",
       "      <th>IsActiveMember</th>\n",
       "      <th>EstimatedSalary</th>\n",
       "      <th>Exited</th>\n",
       "    </tr>\n",
       "  </thead>\n",
       "  <tbody>\n",
       "    <tr>\n",
       "      <th>0</th>\n",
       "      <td>1</td>\n",
       "      <td>15634602</td>\n",
       "      <td>Hargrave</td>\n",
       "      <td>619</td>\n",
       "      <td>France</td>\n",
       "      <td>Female</td>\n",
       "      <td>42</td>\n",
       "      <td>2</td>\n",
       "      <td>0.00</td>\n",
       "      <td>1</td>\n",
       "      <td>1</td>\n",
       "      <td>1</td>\n",
       "      <td>101348.88</td>\n",
       "      <td>1</td>\n",
       "    </tr>\n",
       "    <tr>\n",
       "      <th>1</th>\n",
       "      <td>2</td>\n",
       "      <td>15647311</td>\n",
       "      <td>Hill</td>\n",
       "      <td>608</td>\n",
       "      <td>Spain</td>\n",
       "      <td>Female</td>\n",
       "      <td>41</td>\n",
       "      <td>1</td>\n",
       "      <td>83807.86</td>\n",
       "      <td>1</td>\n",
       "      <td>0</td>\n",
       "      <td>1</td>\n",
       "      <td>112542.58</td>\n",
       "      <td>0</td>\n",
       "    </tr>\n",
       "    <tr>\n",
       "      <th>2</th>\n",
       "      <td>3</td>\n",
       "      <td>15619304</td>\n",
       "      <td>Onio</td>\n",
       "      <td>502</td>\n",
       "      <td>France</td>\n",
       "      <td>Female</td>\n",
       "      <td>42</td>\n",
       "      <td>8</td>\n",
       "      <td>159660.80</td>\n",
       "      <td>3</td>\n",
       "      <td>1</td>\n",
       "      <td>0</td>\n",
       "      <td>113931.57</td>\n",
       "      <td>1</td>\n",
       "    </tr>\n",
       "    <tr>\n",
       "      <th>3</th>\n",
       "      <td>4</td>\n",
       "      <td>15701354</td>\n",
       "      <td>Boni</td>\n",
       "      <td>699</td>\n",
       "      <td>France</td>\n",
       "      <td>Female</td>\n",
       "      <td>39</td>\n",
       "      <td>1</td>\n",
       "      <td>0.00</td>\n",
       "      <td>2</td>\n",
       "      <td>0</td>\n",
       "      <td>0</td>\n",
       "      <td>93826.63</td>\n",
       "      <td>0</td>\n",
       "    </tr>\n",
       "    <tr>\n",
       "      <th>4</th>\n",
       "      <td>5</td>\n",
       "      <td>15737888</td>\n",
       "      <td>Mitchell</td>\n",
       "      <td>850</td>\n",
       "      <td>Spain</td>\n",
       "      <td>Female</td>\n",
       "      <td>43</td>\n",
       "      <td>2</td>\n",
       "      <td>125510.82</td>\n",
       "      <td>1</td>\n",
       "      <td>1</td>\n",
       "      <td>1</td>\n",
       "      <td>79084.10</td>\n",
       "      <td>0</td>\n",
       "    </tr>\n",
       "  </tbody>\n",
       "</table>\n",
       "</div>"
      ],
      "text/plain": [
       "   RowNumber  CustomerId   Surname  CreditScore Geography  Gender  Age  \\\n",
       "0          1    15634602  Hargrave          619    France  Female   42   \n",
       "1          2    15647311      Hill          608     Spain  Female   41   \n",
       "2          3    15619304      Onio          502    France  Female   42   \n",
       "3          4    15701354      Boni          699    France  Female   39   \n",
       "4          5    15737888  Mitchell          850     Spain  Female   43   \n",
       "\n",
       "   Tenure    Balance  NumOfProducts  HasCrCard  IsActiveMember  \\\n",
       "0       2       0.00              1          1               1   \n",
       "1       1   83807.86              1          0               1   \n",
       "2       8  159660.80              3          1               0   \n",
       "3       1       0.00              2          0               0   \n",
       "4       2  125510.82              1          1               1   \n",
       "\n",
       "   EstimatedSalary  Exited  \n",
       "0        101348.88       1  \n",
       "1        112542.58       0  \n",
       "2        113931.57       1  \n",
       "3         93826.63       0  \n",
       "4         79084.10       0  "
      ]
     },
     "execution_count": 109,
     "metadata": {},
     "output_type": "execute_result"
    }
   ],
   "source": [
    "df.head()"
   ]
  },
  {
   "cell_type": "code",
   "execution_count": 110,
   "id": "e11842f8",
   "metadata": {},
   "outputs": [],
   "source": [
    "#Step-2- Drop the columns which are non correlated -\n",
    "df.drop(['RowNumber','CustomerId','Surname'],axis=1,inplace=True)"
   ]
  },
  {
   "cell_type": "code",
   "execution_count": 111,
   "id": "c79fb17e",
   "metadata": {},
   "outputs": [
    {
     "data": {
      "text/html": [
       "<div>\n",
       "<style scoped>\n",
       "    .dataframe tbody tr th:only-of-type {\n",
       "        vertical-align: middle;\n",
       "    }\n",
       "\n",
       "    .dataframe tbody tr th {\n",
       "        vertical-align: top;\n",
       "    }\n",
       "\n",
       "    .dataframe thead th {\n",
       "        text-align: right;\n",
       "    }\n",
       "</style>\n",
       "<table border=\"1\" class=\"dataframe\">\n",
       "  <thead>\n",
       "    <tr style=\"text-align: right;\">\n",
       "      <th></th>\n",
       "      <th>CreditScore</th>\n",
       "      <th>Geography</th>\n",
       "      <th>Gender</th>\n",
       "      <th>Age</th>\n",
       "      <th>Tenure</th>\n",
       "      <th>Balance</th>\n",
       "      <th>NumOfProducts</th>\n",
       "      <th>HasCrCard</th>\n",
       "      <th>IsActiveMember</th>\n",
       "      <th>EstimatedSalary</th>\n",
       "      <th>Exited</th>\n",
       "    </tr>\n",
       "  </thead>\n",
       "  <tbody>\n",
       "    <tr>\n",
       "      <th>0</th>\n",
       "      <td>619</td>\n",
       "      <td>France</td>\n",
       "      <td>Female</td>\n",
       "      <td>42</td>\n",
       "      <td>2</td>\n",
       "      <td>0.00</td>\n",
       "      <td>1</td>\n",
       "      <td>1</td>\n",
       "      <td>1</td>\n",
       "      <td>101348.88</td>\n",
       "      <td>1</td>\n",
       "    </tr>\n",
       "    <tr>\n",
       "      <th>1</th>\n",
       "      <td>608</td>\n",
       "      <td>Spain</td>\n",
       "      <td>Female</td>\n",
       "      <td>41</td>\n",
       "      <td>1</td>\n",
       "      <td>83807.86</td>\n",
       "      <td>1</td>\n",
       "      <td>0</td>\n",
       "      <td>1</td>\n",
       "      <td>112542.58</td>\n",
       "      <td>0</td>\n",
       "    </tr>\n",
       "    <tr>\n",
       "      <th>2</th>\n",
       "      <td>502</td>\n",
       "      <td>France</td>\n",
       "      <td>Female</td>\n",
       "      <td>42</td>\n",
       "      <td>8</td>\n",
       "      <td>159660.80</td>\n",
       "      <td>3</td>\n",
       "      <td>1</td>\n",
       "      <td>0</td>\n",
       "      <td>113931.57</td>\n",
       "      <td>1</td>\n",
       "    </tr>\n",
       "    <tr>\n",
       "      <th>3</th>\n",
       "      <td>699</td>\n",
       "      <td>France</td>\n",
       "      <td>Female</td>\n",
       "      <td>39</td>\n",
       "      <td>1</td>\n",
       "      <td>0.00</td>\n",
       "      <td>2</td>\n",
       "      <td>0</td>\n",
       "      <td>0</td>\n",
       "      <td>93826.63</td>\n",
       "      <td>0</td>\n",
       "    </tr>\n",
       "    <tr>\n",
       "      <th>4</th>\n",
       "      <td>850</td>\n",
       "      <td>Spain</td>\n",
       "      <td>Female</td>\n",
       "      <td>43</td>\n",
       "      <td>2</td>\n",
       "      <td>125510.82</td>\n",
       "      <td>1</td>\n",
       "      <td>1</td>\n",
       "      <td>1</td>\n",
       "      <td>79084.10</td>\n",
       "      <td>0</td>\n",
       "    </tr>\n",
       "  </tbody>\n",
       "</table>\n",
       "</div>"
      ],
      "text/plain": [
       "   CreditScore Geography  Gender  Age  Tenure    Balance  NumOfProducts  \\\n",
       "0          619    France  Female   42       2       0.00              1   \n",
       "1          608     Spain  Female   41       1   83807.86              1   \n",
       "2          502    France  Female   42       8  159660.80              3   \n",
       "3          699    France  Female   39       1       0.00              2   \n",
       "4          850     Spain  Female   43       2  125510.82              1   \n",
       "\n",
       "   HasCrCard  IsActiveMember  EstimatedSalary  Exited  \n",
       "0          1               1        101348.88       1  \n",
       "1          0               1        112542.58       0  \n",
       "2          1               0        113931.57       1  \n",
       "3          0               0         93826.63       0  \n",
       "4          1               1         79084.10       0  "
      ]
     },
     "execution_count": 111,
     "metadata": {},
     "output_type": "execute_result"
    }
   ],
   "source": [
    "df.head()"
   ]
  },
  {
   "cell_type": "code",
   "execution_count": 112,
   "id": "d58b1576",
   "metadata": {},
   "outputs": [],
   "source": [
    "#Step-3- split the data in x and y axis veriables - by index locting selection [row,columns]\n",
    "x=df.iloc[:,0:10]\n",
    "y=df.iloc[:,10]"
   ]
  },
  {
   "cell_type": "code",
   "execution_count": 113,
   "id": "e7ba7d43",
   "metadata": {},
   "outputs": [],
   "source": [
    "#Lets Handle Categorical veriables by using getdummies function - you can also use LabelEncoder or OneHotEncoder,etc -\n",
    "geography = pd.get_dummies(x['Geography'],drop_first=True)\n",
    "gender = pd.get_dummies(x['Gender'],drop_first=True) \n",
    "\n",
    "#Concatenate the DataFrames -\n",
    "x=pd.concat([x,geography,gender],axis=1)\n",
    "\n",
    "#Drop the columns which are non correlated -\n",
    "x.drop(['Geography','Gender'],axis=1,inplace=True)"
   ]
  },
  {
   "cell_type": "code",
   "execution_count": 114,
   "id": "1fd0bac7",
   "metadata": {},
   "outputs": [
    {
     "data": {
      "text/html": [
       "<div>\n",
       "<style scoped>\n",
       "    .dataframe tbody tr th:only-of-type {\n",
       "        vertical-align: middle;\n",
       "    }\n",
       "\n",
       "    .dataframe tbody tr th {\n",
       "        vertical-align: top;\n",
       "    }\n",
       "\n",
       "    .dataframe thead th {\n",
       "        text-align: right;\n",
       "    }\n",
       "</style>\n",
       "<table border=\"1\" class=\"dataframe\">\n",
       "  <thead>\n",
       "    <tr style=\"text-align: right;\">\n",
       "      <th></th>\n",
       "      <th>CreditScore</th>\n",
       "      <th>Age</th>\n",
       "      <th>Tenure</th>\n",
       "      <th>Balance</th>\n",
       "      <th>NumOfProducts</th>\n",
       "      <th>HasCrCard</th>\n",
       "      <th>IsActiveMember</th>\n",
       "      <th>EstimatedSalary</th>\n",
       "      <th>Germany</th>\n",
       "      <th>Spain</th>\n",
       "      <th>Male</th>\n",
       "    </tr>\n",
       "  </thead>\n",
       "  <tbody>\n",
       "    <tr>\n",
       "      <th>0</th>\n",
       "      <td>619</td>\n",
       "      <td>42</td>\n",
       "      <td>2</td>\n",
       "      <td>0.00</td>\n",
       "      <td>1</td>\n",
       "      <td>1</td>\n",
       "      <td>1</td>\n",
       "      <td>101348.88</td>\n",
       "      <td>0</td>\n",
       "      <td>0</td>\n",
       "      <td>0</td>\n",
       "    </tr>\n",
       "    <tr>\n",
       "      <th>1</th>\n",
       "      <td>608</td>\n",
       "      <td>41</td>\n",
       "      <td>1</td>\n",
       "      <td>83807.86</td>\n",
       "      <td>1</td>\n",
       "      <td>0</td>\n",
       "      <td>1</td>\n",
       "      <td>112542.58</td>\n",
       "      <td>0</td>\n",
       "      <td>1</td>\n",
       "      <td>0</td>\n",
       "    </tr>\n",
       "    <tr>\n",
       "      <th>2</th>\n",
       "      <td>502</td>\n",
       "      <td>42</td>\n",
       "      <td>8</td>\n",
       "      <td>159660.80</td>\n",
       "      <td>3</td>\n",
       "      <td>1</td>\n",
       "      <td>0</td>\n",
       "      <td>113931.57</td>\n",
       "      <td>0</td>\n",
       "      <td>0</td>\n",
       "      <td>0</td>\n",
       "    </tr>\n",
       "    <tr>\n",
       "      <th>3</th>\n",
       "      <td>699</td>\n",
       "      <td>39</td>\n",
       "      <td>1</td>\n",
       "      <td>0.00</td>\n",
       "      <td>2</td>\n",
       "      <td>0</td>\n",
       "      <td>0</td>\n",
       "      <td>93826.63</td>\n",
       "      <td>0</td>\n",
       "      <td>0</td>\n",
       "      <td>0</td>\n",
       "    </tr>\n",
       "    <tr>\n",
       "      <th>4</th>\n",
       "      <td>850</td>\n",
       "      <td>43</td>\n",
       "      <td>2</td>\n",
       "      <td>125510.82</td>\n",
       "      <td>1</td>\n",
       "      <td>1</td>\n",
       "      <td>1</td>\n",
       "      <td>79084.10</td>\n",
       "      <td>0</td>\n",
       "      <td>1</td>\n",
       "      <td>0</td>\n",
       "    </tr>\n",
       "  </tbody>\n",
       "</table>\n",
       "</div>"
      ],
      "text/plain": [
       "   CreditScore  Age  Tenure    Balance  NumOfProducts  HasCrCard  \\\n",
       "0          619   42       2       0.00              1          1   \n",
       "1          608   41       1   83807.86              1          0   \n",
       "2          502   42       8  159660.80              3          1   \n",
       "3          699   39       1       0.00              2          0   \n",
       "4          850   43       2  125510.82              1          1   \n",
       "\n",
       "   IsActiveMember  EstimatedSalary  Germany  Spain  Male  \n",
       "0               1        101348.88        0      0     0  \n",
       "1               1        112542.58        0      1     0  \n",
       "2               0        113931.57        0      0     0  \n",
       "3               0         93826.63        0      0     0  \n",
       "4               1         79084.10        0      1     0  "
      ]
     },
     "execution_count": 114,
     "metadata": {},
     "output_type": "execute_result"
    }
   ],
   "source": [
    "x.head()"
   ]
  },
  {
   "cell_type": "code",
   "execution_count": 115,
   "id": "634bc99b",
   "metadata": {},
   "outputs": [
    {
     "data": {
      "text/plain": [
       "array([[-0.32622142,  0.29351742, -1.04175968, ..., -0.57873591,\n",
       "        -0.57380915, -1.09598752],\n",
       "       [-0.44003595,  0.19816383, -1.38753759, ..., -0.57873591,\n",
       "         1.74273971, -1.09598752],\n",
       "       [-1.53679418,  0.29351742,  1.03290776, ..., -0.57873591,\n",
       "        -0.57380915, -1.09598752],\n",
       "       ...,\n",
       "       [ 0.60498839, -0.27860412,  0.68712986, ..., -0.57873591,\n",
       "        -0.57380915, -1.09598752],\n",
       "       [ 1.25683526,  0.29351742, -0.69598177, ...,  1.72790383,\n",
       "        -0.57380915,  0.91241915],\n",
       "       [ 1.46377078, -1.04143285, -0.35020386, ..., -0.57873591,\n",
       "        -0.57380915, -1.09598752]])"
      ]
     },
     "execution_count": 115,
     "metadata": {},
     "output_type": "execute_result"
    }
   ],
   "source": [
    "#Lets apply StandardScaler for better scaling -\n",
    "from sklearn.preprocessing import StandardScaler\n",
    "scaler = StandardScaler()\n",
    "scaler.fit(x)\n",
    "x1=scaler.transform(x)\n",
    "x1"
   ]
  },
  {
   "cell_type": "code",
   "execution_count": 116,
   "id": "a51fa74b",
   "metadata": {},
   "outputs": [],
   "source": [
    "#Step-4- Split the data in train_test_split parts -\n",
    "from sklearn.model_selection import train_test_split\n",
    "X_train,X_test,y_train,y_test = train_test_split(x1,y,test_size=0.2,random_state=0)"
   ]
  },
  {
   "cell_type": "code",
   "execution_count": 117,
   "id": "5fa51012",
   "metadata": {},
   "outputs": [
    {
     "name": "stdout",
     "output_type": "stream",
     "text": [
      "(8000, 11)\n",
      "(2000, 11)\n",
      "===========================\n",
      "(8000,)\n",
      "(2000,)\n"
     ]
    }
   ],
   "source": [
    "print(X_train.shape)\n",
    "print(X_test.shape)\n",
    "print('===========================')\n",
    "print(y_train.shape)\n",
    "print(y_test.shape)"
   ]
  },
  {
   "cell_type": "code",
   "execution_count": 140,
   "id": "148e30a8",
   "metadata": {},
   "outputs": [
    {
     "data": {
      "text/plain": [
       "array([[ 0.17042381, -0.4693113 , -0.00442596, ..., -0.57873591,\n",
       "         1.74273971, -1.09598752],\n",
       "       [-2.31280236,  0.29351742, -1.38753759, ...,  1.72790383,\n",
       "        -0.57380915,  0.91241915],\n",
       "       [-1.19535058, -0.94607926, -1.04175968, ..., -0.57873591,\n",
       "        -0.57380915, -1.09598752],\n",
       "       ...,\n",
       "       [ 0.90504489, -0.37395771, -0.00442596, ..., -0.57873591,\n",
       "        -0.57380915,  0.91241915],\n",
       "       [-0.62627792, -0.08789694,  1.37868567, ..., -0.57873591,\n",
       "         1.74273971, -1.09598752],\n",
       "       [-0.28483432,  0.86563897, -1.38753759, ...,  1.72790383,\n",
       "        -0.57380915, -1.09598752]])"
      ]
     },
     "execution_count": 140,
     "metadata": {},
     "output_type": "execute_result"
    }
   ],
   "source": [
    "X_train"
   ]
  },
  {
   "cell_type": "code",
   "execution_count": 119,
   "id": "f40c8827",
   "metadata": {},
   "outputs": [],
   "source": [
    "#Step-5- Create object for the Algorithm and Now let's make the Artifical Neural Network Model -\n",
    "import keras\n",
    "from keras.models import Sequential #Entire Neural Network\n",
    "from keras.layers import Dense #To create layers (input Layers ,hidden Layers,output Layer)\n",
    "from keras.layers import ReLU,PReLU,LeakyReLU,ELU  #Activation Functions\n",
    "from keras.layers import Dropout #To dectivate the neurons to reduce Overfitting(to maintain model accuracy)"
   ]
  },
  {
   "cell_type": "code",
   "execution_count": 120,
   "id": "e8056927",
   "metadata": {},
   "outputs": [],
   "source": [
    "#Initilize the ANN -\n",
    "classifier=Sequential()"
   ]
  },
  {
   "cell_type": "code",
   "execution_count": 121,
   "id": "6ee8ef94",
   "metadata": {},
   "outputs": [],
   "source": [
    "#Adding the Input layer - (Generally as a input units=number of input columns, but you can put asmeny neurons you want -\n",
    "classifier.add(Dense(units=11,kernel_initializer='uniform',activation='relu'))\n",
    "\n",
    "#Classifier.add(create_layer(neurons_required=11,initilize_kernel_weight_matrix,activation_function=ReLU))"
   ]
  },
  {
   "cell_type": "code",
   "execution_count": 122,
   "id": "052d31e7",
   "metadata": {},
   "outputs": [],
   "source": [
    "#Adding the First Hidden layer -\n",
    "classifier.add(Dense(units=6,kernel_initializer='uniform',activation='relu'))"
   ]
  },
  {
   "cell_type": "code",
   "execution_count": 123,
   "id": "32e88271",
   "metadata": {},
   "outputs": [],
   "source": [
    "#Adding the Second Hidden layer -\n",
    "classifier.add(Dense(units=2,kernel_initializer='uniform',activation='relu'))"
   ]
  },
  {
   "cell_type": "code",
   "execution_count": 124,
   "id": "8e48e830",
   "metadata": {},
   "outputs": [],
   "source": [
    "#Adding the Output layer -\n",
    "classifier.add(Dense(units=1,kernel_initializer='uniform',activation='sigmoid'))"
   ]
  },
  {
   "cell_type": "code",
   "execution_count": 125,
   "id": "c7728b39",
   "metadata": {},
   "outputs": [],
   "source": [
    "#Lets Compile the layers - \n",
    "classifier.compile(optimizer='adam',loss='binary_crossentropy',metrics='accuracy')"
   ]
  },
  {
   "cell_type": "code",
   "execution_count": null,
   "id": "f6c9cd4e",
   "metadata": {},
   "outputs": [],
   "source": [
    "#If we want to apply Early Stopping(Stop Training when monitored metrics stop imporving),Otherwise mention epochs value only \n",
    "import tensorflow as tf\n",
    "early_stopping = tf.keras.callbacks.EarlyStopping(monitor='val_loss',min_delta=0.0001,patience=20,verbose=1,mode='auto',baseline=None,restore_best_weights=False)"
   ]
  },
  {
   "cell_type": "code",
   "execution_count": 141,
   "id": "3d704782",
   "metadata": {},
   "outputs": [
    {
     "name": "stdout",
     "output_type": "stream",
     "text": [
      "Epoch 1/1000\n",
      "536/536 [==============================] - 3s 6ms/step - loss: 0.3267 - accuracy: 0.8679 - val_loss: 0.3553 - val_accuracy: 0.8550\n",
      "Epoch 2/1000\n",
      "536/536 [==============================] - 3s 6ms/step - loss: 0.3267 - accuracy: 0.8684 - val_loss: 0.3536 - val_accuracy: 0.8569\n",
      "Epoch 3/1000\n",
      "536/536 [==============================] - 4s 8ms/step - loss: 0.3260 - accuracy: 0.8679 - val_loss: 0.3629 - val_accuracy: 0.8493\n",
      "Epoch 4/1000\n",
      "536/536 [==============================] - 4s 7ms/step - loss: 0.3260 - accuracy: 0.8642 - val_loss: 0.3551 - val_accuracy: 0.8569\n",
      "Epoch 5/1000\n",
      "536/536 [==============================] - 4s 8ms/step - loss: 0.3264 - accuracy: 0.8684 - val_loss: 0.3554 - val_accuracy: 0.8538\n",
      "Epoch 6/1000\n",
      "536/536 [==============================] - 3s 6ms/step - loss: 0.3257 - accuracy: 0.8686 - val_loss: 0.3534 - val_accuracy: 0.8527\n",
      "Epoch 7/1000\n",
      "536/536 [==============================] - 3s 6ms/step - loss: 0.3261 - accuracy: 0.8696 - val_loss: 0.3566 - val_accuracy: 0.8516\n",
      "Epoch 8/1000\n",
      "536/536 [==============================] - 4s 7ms/step - loss: 0.3256 - accuracy: 0.8694 - val_loss: 0.3554 - val_accuracy: 0.8535\n",
      "Epoch 9/1000\n",
      "536/536 [==============================] - 4s 7ms/step - loss: 0.3247 - accuracy: 0.8668 - val_loss: 0.3570 - val_accuracy: 0.8538\n",
      "Epoch 10/1000\n",
      "536/536 [==============================] - 3s 6ms/step - loss: 0.3245 - accuracy: 0.8703 - val_loss: 0.3561 - val_accuracy: 0.8557\n",
      "Epoch 11/1000\n",
      "536/536 [==============================] - 3s 5ms/step - loss: 0.3251 - accuracy: 0.8675 - val_loss: 0.3547 - val_accuracy: 0.8550\n",
      "Epoch 12/1000\n",
      "536/536 [==============================] - 4s 7ms/step - loss: 0.3248 - accuracy: 0.8698 - val_loss: 0.3543 - val_accuracy: 0.8557\n",
      "Epoch 13/1000\n",
      "536/536 [==============================] - 4s 7ms/step - loss: 0.3246 - accuracy: 0.8673 - val_loss: 0.3555 - val_accuracy: 0.8573\n",
      "Epoch 14/1000\n",
      "536/536 [==============================] - 4s 8ms/step - loss: 0.3245 - accuracy: 0.8686 - val_loss: 0.3531 - val_accuracy: 0.8557\n",
      "Epoch 15/1000\n",
      "536/536 [==============================] - 4s 7ms/step - loss: 0.3241 - accuracy: 0.8681 - val_loss: 0.3561 - val_accuracy: 0.8569\n",
      "Epoch 16/1000\n",
      "536/536 [==============================] - 2s 5ms/step - loss: 0.3241 - accuracy: 0.8670 - val_loss: 0.3580 - val_accuracy: 0.8542\n",
      "Epoch 17/1000\n",
      "536/536 [==============================] - 4s 7ms/step - loss: 0.3239 - accuracy: 0.8703 - val_loss: 0.3573 - val_accuracy: 0.8516\n",
      "Epoch 18/1000\n",
      "536/536 [==============================] - 3s 6ms/step - loss: 0.3231 - accuracy: 0.8675 - val_loss: 0.3604 - val_accuracy: 0.8501\n",
      "Epoch 19/1000\n",
      "536/536 [==============================] - 4s 7ms/step - loss: 0.3235 - accuracy: 0.8670 - val_loss: 0.3573 - val_accuracy: 0.8550\n",
      "Epoch 20/1000\n",
      "536/536 [==============================] - 3s 5ms/step - loss: 0.3237 - accuracy: 0.8683 - val_loss: 0.3569 - val_accuracy: 0.8519\n",
      "Epoch 21/1000\n",
      "536/536 [==============================] - 3s 5ms/step - loss: 0.3240 - accuracy: 0.8688 - val_loss: 0.3539 - val_accuracy: 0.8573\n",
      "Epoch 22/1000\n",
      "536/536 [==============================] - 3s 6ms/step - loss: 0.3243 - accuracy: 0.8701 - val_loss: 0.3568 - val_accuracy: 0.8565\n",
      "Epoch 23/1000\n",
      "536/536 [==============================] - 3s 6ms/step - loss: 0.3238 - accuracy: 0.8677 - val_loss: 0.3554 - val_accuracy: 0.8573\n",
      "Epoch 24/1000\n",
      "536/536 [==============================] - 3s 6ms/step - loss: 0.3222 - accuracy: 0.8684 - val_loss: 0.3578 - val_accuracy: 0.8538\n",
      "Epoch 25/1000\n",
      "536/536 [==============================] - 4s 8ms/step - loss: 0.3220 - accuracy: 0.8707 - val_loss: 0.3599 - val_accuracy: 0.8527\n",
      "Epoch 26/1000\n",
      "536/536 [==============================] - 3s 6ms/step - loss: 0.3226 - accuracy: 0.8699 - val_loss: 0.3548 - val_accuracy: 0.8584\n",
      "Epoch 27/1000\n",
      "536/536 [==============================] - 4s 8ms/step - loss: 0.3222 - accuracy: 0.8707 - val_loss: 0.3536 - val_accuracy: 0.8554\n",
      "Epoch 28/1000\n",
      "536/536 [==============================] - 4s 7ms/step - loss: 0.3222 - accuracy: 0.8709 - val_loss: 0.3543 - val_accuracy: 0.8542\n",
      "Epoch 29/1000\n",
      "536/536 [==============================] - 3s 6ms/step - loss: 0.3227 - accuracy: 0.8694 - val_loss: 0.3558 - val_accuracy: 0.8531\n",
      "Epoch 30/1000\n",
      "536/536 [==============================] - 4s 7ms/step - loss: 0.3223 - accuracy: 0.8701 - val_loss: 0.3531 - val_accuracy: 0.8576\n",
      "Epoch 31/1000\n",
      "536/536 [==============================] - 4s 8ms/step - loss: 0.3220 - accuracy: 0.8673 - val_loss: 0.3570 - val_accuracy: 0.8542\n",
      "Epoch 32/1000\n",
      "536/536 [==============================] - 3s 6ms/step - loss: 0.3220 - accuracy: 0.8705 - val_loss: 0.3541 - val_accuracy: 0.8542\n",
      "Epoch 33/1000\n",
      "536/536 [==============================] - 4s 7ms/step - loss: 0.3218 - accuracy: 0.8716 - val_loss: 0.3580 - val_accuracy: 0.8550\n",
      "Epoch 34/1000\n",
      "536/536 [==============================] - 2s 4ms/step - loss: 0.3204 - accuracy: 0.8694 - val_loss: 0.3577 - val_accuracy: 0.8557\n",
      "Epoch 34: early stopping\n"
     ]
    }
   ],
   "source": [
    "#Lets fit the model - Here [callbacks=early_stopping] is optional, if you dont want early stopping then dont use it -\n",
    "model_history = classifier.fit(X_train,y_train,batch_size=10,epochs=1000,validation_split=0.33,callbacks=early_stopping)"
   ]
  },
  {
   "cell_type": "code",
   "execution_count": 143,
   "id": "9ab4a3a0",
   "metadata": {},
   "outputs": [
    {
     "name": "stdout",
     "output_type": "stream",
     "text": [
      "63/63 [==============================] - 0s 2ms/step\n"
     ]
    }
   ],
   "source": [
    "#Step-6- Predict the Y-axis values - \n",
    "predict_ann=classifier.predict(X_test)\n",
    "predict_ann = (predict_ann > 0.5)"
   ]
  },
  {
   "cell_type": "code",
   "execution_count": 144,
   "id": "475037d8",
   "metadata": {},
   "outputs": [
    {
     "name": "stdout",
     "output_type": "stream",
     "text": [
      "[[1505   90]\n",
      " [ 193  212]]\n",
      "0.8585\n"
     ]
    }
   ],
   "source": [
    "#Step-7- Model Evaluation and Error check -\n",
    "from sklearn.metrics import confusion_matrix,accuracy_score\n",
    "print(confusion_matrix(y_test, predict_ann))\n",
    "print(accuracy_score(predict_ann,y_test))"
   ]
  },
  {
   "cell_type": "code",
   "execution_count": 137,
   "id": "9329f634",
   "metadata": {},
   "outputs": [],
   "source": [
    "#.......................................Lets Make some Fun................................................................."
   ]
  },
  {
   "cell_type": "code",
   "execution_count": 145,
   "id": "58de0b24",
   "metadata": {},
   "outputs": [
    {
     "data": {
      "text/plain": [
       "dict_keys(['loss', 'accuracy', 'val_loss', 'val_accuracy'])"
      ]
     },
     "execution_count": 145,
     "metadata": {},
     "output_type": "execute_result"
    }
   ],
   "source": [
    "model_history.history.keys()"
   ]
  },
  {
   "cell_type": "code",
   "execution_count": 146,
   "id": "c10f6d0f",
   "metadata": {},
   "outputs": [
    {
     "data": {
      "text/plain": [
       "<matplotlib.legend.Legend at 0x1c5d654a340>"
      ]
     },
     "execution_count": 146,
     "metadata": {},
     "output_type": "execute_result"
    },
    {
     "data": {
      "image/png": "[encoded data removed]",
      "text/plain": [
       "<Figure size 640x480 with 1 Axes>"
      ]
     },
     "metadata": {},
     "output_type": "display_data"
    }
   ],
   "source": [
    "#summarize history for accuracy\n",
    "plt.plot(model_history.history['accuracy'])\n",
    "plt.plot(model_history.history['val_accuracy'])\n",
    "plt.title('model accuracy')\n",
    "plt.ylabel('accuracy')\n",
    "plt.xlabel('epoch')\n",
    "plt.legend(['train', 'test'], loc='upper left')"
   ]
  },
  {
   "cell_type": "code",
   "execution_count": 147,
   "id": "5c1f971c",
   "metadata": {},
   "outputs": [
    {
     "data": {
      "text/plain": [
       "<matplotlib.legend.Legend at 0x1c5dc957550>"
      ]
     },
     "execution_count": 147,
     "metadata": {},
     "output_type": "execute_result"
    },
    {
     "data": {
      "image/png": "[encoded data removed]",
      "text/plain": [
       "<Figure size 640x480 with 1 Axes>"
      ]
     },
     "metadata": {},
     "output_type": "display_data"
    }
   ],
   "source": [
    "# summarize history for loss\n",
    "plt.plot(model_history.history['loss'])\n",
    "plt.plot(model_history.history['val_loss'])\n",
    "plt.title('model loss')\n",
    "plt.ylabel('loss')\n",
    "plt.xlabel('epoch')\n",
    "plt.legend(['train', 'test'], loc='upper left')"
   ]
  },
  {
   "cell_type": "code",
   "execution_count": null,
   "id": "0d468931",
   "metadata": {},
   "outputs": [],
   "source": [
    "#Thank You................................................................"
   ]
  }
 ],
 "metadata": {
  "kernelspec": {
   "display_name": "Python 3 (ipykernel)",
   "language": "python",
   "name": "python3"
  },
  "language_info": {
   "codemirror_mode": {
    "name": "ipython",
    "version": 3
   },
   "file_extension": ".py",
   "mimetype": "text/x-python",
   "name": "python",
   "nbconvert_exporter": "python",
   "pygments_lexer": "ipython3",
   "version": "3.9.13"
  }
 },
 "nbformat": 4,
 "nbformat_minor": 5
}
