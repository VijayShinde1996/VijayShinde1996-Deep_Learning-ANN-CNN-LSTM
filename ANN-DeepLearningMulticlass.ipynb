{
 "cells": [
  {
   "cell_type": "markdown",
   "id": "913d59a7",
   "metadata": {},
   "source": [
    "# Deep Learning (Artificial Neural Network)\n",
    "### Multiclass Classification\n",
    "- But here example is of Binary classification (Solved as per Multiclass classification - just for understanding)\n",
    "- Predict Target column belongs to which category"
   ]
  },
  {
   "cell_type": "code",
   "execution_count": 27,
   "id": "8ce232be",
   "metadata": {},
   "outputs": [],
   "source": [
    "#Lets import the libraries -\n",
    "import numpy as np\n",
    "import pandas as pd\n",
    "import matplotlib.pyplot as plt\n",
    "import seaborn as sns"
   ]
  },
  {
   "cell_type": "code",
   "execution_count": 28,
   "id": "f69ec4d3",
   "metadata": {},
   "outputs": [],
   "source": [
    "#Lets load the dataset -\n",
    "df2 = pd.read_csv('C:/Users/om/Desktop/Classified Data',index_col=0)"
   ]
  },
  {
   "cell_type": "code",
   "execution_count": 29,
   "id": "d0d95a96",
   "metadata": {},
   "outputs": [
    {
     "data": {
      "text/html": [
       "<div>\n",
       "<style scoped>\n",
       "    .dataframe tbody tr th:only-of-type {\n",
       "        vertical-align: middle;\n",
       "    }\n",
       "\n",
       "    .dataframe tbody tr th {\n",
       "        vertical-align: top;\n",
       "    }\n",
       "\n",
       "    .dataframe thead th {\n",
       "        text-align: right;\n",
       "    }\n",
       "</style>\n",
       "<table border=\"1\" class=\"dataframe\">\n",
       "  <thead>\n",
       "    <tr style=\"text-align: right;\">\n",
       "      <th></th>\n",
       "      <th>WTT</th>\n",
       "      <th>PTI</th>\n",
       "      <th>EQW</th>\n",
       "      <th>SBI</th>\n",
       "      <th>LQE</th>\n",
       "      <th>QWG</th>\n",
       "      <th>FDJ</th>\n",
       "      <th>PJF</th>\n",
       "      <th>HQE</th>\n",
       "      <th>NXJ</th>\n",
       "      <th>TARGET CLASS</th>\n",
       "    </tr>\n",
       "  </thead>\n",
       "  <tbody>\n",
       "    <tr>\n",
       "      <th>0</th>\n",
       "      <td>0.913917</td>\n",
       "      <td>1.162073</td>\n",
       "      <td>0.567946</td>\n",
       "      <td>0.755464</td>\n",
       "      <td>0.780862</td>\n",
       "      <td>0.352608</td>\n",
       "      <td>0.759697</td>\n",
       "      <td>0.643798</td>\n",
       "      <td>0.879422</td>\n",
       "      <td>1.231409</td>\n",
       "      <td>1</td>\n",
       "    </tr>\n",
       "    <tr>\n",
       "      <th>1</th>\n",
       "      <td>0.635632</td>\n",
       "      <td>1.003722</td>\n",
       "      <td>0.535342</td>\n",
       "      <td>0.825645</td>\n",
       "      <td>0.924109</td>\n",
       "      <td>0.648450</td>\n",
       "      <td>0.675334</td>\n",
       "      <td>1.013546</td>\n",
       "      <td>0.621552</td>\n",
       "      <td>1.492702</td>\n",
       "      <td>0</td>\n",
       "    </tr>\n",
       "    <tr>\n",
       "      <th>2</th>\n",
       "      <td>0.721360</td>\n",
       "      <td>1.201493</td>\n",
       "      <td>0.921990</td>\n",
       "      <td>0.855595</td>\n",
       "      <td>1.526629</td>\n",
       "      <td>0.720781</td>\n",
       "      <td>1.626351</td>\n",
       "      <td>1.154483</td>\n",
       "      <td>0.957877</td>\n",
       "      <td>1.285597</td>\n",
       "      <td>0</td>\n",
       "    </tr>\n",
       "    <tr>\n",
       "      <th>3</th>\n",
       "      <td>1.234204</td>\n",
       "      <td>1.386726</td>\n",
       "      <td>0.653046</td>\n",
       "      <td>0.825624</td>\n",
       "      <td>1.142504</td>\n",
       "      <td>0.875128</td>\n",
       "      <td>1.409708</td>\n",
       "      <td>1.380003</td>\n",
       "      <td>1.522692</td>\n",
       "      <td>1.153093</td>\n",
       "      <td>1</td>\n",
       "    </tr>\n",
       "    <tr>\n",
       "      <th>4</th>\n",
       "      <td>1.279491</td>\n",
       "      <td>0.949750</td>\n",
       "      <td>0.627280</td>\n",
       "      <td>0.668976</td>\n",
       "      <td>1.232537</td>\n",
       "      <td>0.703727</td>\n",
       "      <td>1.115596</td>\n",
       "      <td>0.646691</td>\n",
       "      <td>1.463812</td>\n",
       "      <td>1.419167</td>\n",
       "      <td>1</td>\n",
       "    </tr>\n",
       "  </tbody>\n",
       "</table>\n",
       "</div>"
      ],
      "text/plain": [
       "        WTT       PTI       EQW       SBI       LQE       QWG       FDJ  \\\n",
       "0  0.913917  1.162073  0.567946  0.755464  0.780862  0.352608  0.759697   \n",
       "1  0.635632  1.003722  0.535342  0.825645  0.924109  0.648450  0.675334   \n",
       "2  0.721360  1.201493  0.921990  0.855595  1.526629  0.720781  1.626351   \n",
       "3  1.234204  1.386726  0.653046  0.825624  1.142504  0.875128  1.409708   \n",
       "4  1.279491  0.949750  0.627280  0.668976  1.232537  0.703727  1.115596   \n",
       "\n",
       "        PJF       HQE       NXJ  TARGET CLASS  \n",
       "0  0.643798  0.879422  1.231409             1  \n",
       "1  1.013546  0.621552  1.492702             0  \n",
       "2  1.154483  0.957877  1.285597             0  \n",
       "3  1.380003  1.522692  1.153093             1  \n",
       "4  0.646691  1.463812  1.419167             1  "
      ]
     },
     "execution_count": 29,
     "metadata": {},
     "output_type": "execute_result"
    }
   ],
   "source": [
    "df2.head()"
   ]
  },
  {
   "cell_type": "code",
   "execution_count": 30,
   "id": "d38db724",
   "metadata": {},
   "outputs": [],
   "source": [
    "#Lets split the data in x & y axis veriables -\n",
    "x2=df2.iloc[:,:10]\n",
    "y2=df2.iloc[:,10]"
   ]
  },
  {
   "cell_type": "code",
   "execution_count": 31,
   "id": "eee52a81",
   "metadata": {},
   "outputs": [],
   "source": [
    "#Lets split the data in train_test_split parts -\n",
    "from sklearn.model_selection import train_test_split\n",
    "X_train,X_test,y_train,y_test = train_test_split(x2,y2,test_size=0.30,random_state=0)"
   ]
  },
  {
   "cell_type": "code",
   "execution_count": 32,
   "id": "244143c1",
   "metadata": {},
   "outputs": [
    {
     "name": "stdout",
     "output_type": "stream",
     "text": [
      "(700, 10)\n",
      "(700,)\n"
     ]
    }
   ],
   "source": [
    "#Lets apply the StandardScaler for better scalng -\n",
    "from sklearn.preprocessing import StandardScaler\n",
    "sc=StandardScaler()\n",
    "X_train = sc.fit_transform(X_train)\n",
    "X_test = sc.transform(X_test)\n",
    "print(X_train.shape)\n",
    "print(y_train.shape)"
   ]
  },
  {
   "cell_type": "code",
   "execution_count": 33,
   "id": "e6d54f28",
   "metadata": {},
   "outputs": [],
   "source": [
    "#Lets create an object for the algorithm and create Neural Network -\n",
    "import keras\n",
    "from keras.models import Sequential\n",
    "from keras.layers import Dense\n",
    "from keras.layers import ReLU,PReLU\n",
    "from keras.layers import Dropout\n",
    "classifier2=Sequential()"
   ]
  },
  {
   "cell_type": "code",
   "execution_count": 34,
   "id": "3f892746",
   "metadata": {},
   "outputs": [],
   "source": [
    "#Lets Add Input Layer -\n",
    "classifier2.add(Dense(units=18,kernel_initializer='uniform',activation='ReLU'))"
   ]
  },
  {
   "cell_type": "code",
   "execution_count": 35,
   "id": "63b356c0",
   "metadata": {},
   "outputs": [],
   "source": [
    "#Lets Add First Hidden Layer -\n",
    "classifier2.add(Dense(units=10,kernel_initializer='uniform',activation='ReLU'))"
   ]
  },
  {
   "cell_type": "code",
   "execution_count": 36,
   "id": "07d51c7b",
   "metadata": {},
   "outputs": [],
   "source": [
    "#Lets Add Second Hidden layer -\n",
    "classifier2.add(Dense(units=5,kernel_initializer='uniform',activation='ReLU'))"
   ]
  },
  {
   "cell_type": "code",
   "execution_count": 37,
   "id": "4b31da7c",
   "metadata": {},
   "outputs": [],
   "source": [
    "#Lets Add Third Hidden layer -\n",
    "classifier2.add(Dense(units=2,kernel_initializer='uniform',activation='ReLU'))"
   ]
  },
  {
   "cell_type": "code",
   "execution_count": 38,
   "id": "e295785e",
   "metadata": {},
   "outputs": [],
   "source": [
    "#Lets Add Output layer -\n",
    "classifier2.add(Dense(units=1,kernel_initializer='uniform',activation='softmax'))"
   ]
  },
  {
   "cell_type": "code",
   "execution_count": 39,
   "id": "d0d72fde",
   "metadata": {},
   "outputs": [],
   "source": [
    "#Lets Compile all the layers -\n",
    "classifier2.compile(optimizer='adam',loss='categorical_crossentropy',metrics='accuracy')"
   ]
  },
  {
   "cell_type": "code",
   "execution_count": 40,
   "id": "61d8b2c6",
   "metadata": {},
   "outputs": [],
   "source": [
    "#Lets apply early stopping to automatically stop the epoches when our accuracy stop improving -\n",
    "import tensorflow as tf\n",
    "early_stopping = tf.keras.callbacks.EarlyStopping(monitor='val_loss',min_delta=0.0001,patience=5,verbose=1,mode='auto',baseline=None,restore_best_weights=False)"
   ]
  },
  {
   "cell_type": "code",
   "execution_count": 41,
   "id": "9cc166d8",
   "metadata": {},
   "outputs": [
    {
     "name": "stdout",
     "output_type": "stream",
     "text": [
      "Epoch 1/100\n",
      "47/47 [==============================] - 1s 7ms/step - loss: 0.0000e+00 - accuracy: 0.4658 - val_loss: 0.0000e+00 - val_accuracy: 0.5259\n",
      "Epoch 2/100\n",
      "47/47 [==============================] - 0s 3ms/step - loss: 0.0000e+00 - accuracy: 0.4658 - val_loss: 0.0000e+00 - val_accuracy: 0.5259\n",
      "Epoch 3/100\n",
      "47/47 [==============================] - 0s 3ms/step - loss: 0.0000e+00 - accuracy: 0.4658 - val_loss: 0.0000e+00 - val_accuracy: 0.5259\n",
      "Epoch 4/100\n",
      "47/47 [==============================] - 0s 3ms/step - loss: 0.0000e+00 - accuracy: 0.4658 - val_loss: 0.0000e+00 - val_accuracy: 0.5259\n",
      "Epoch 5/100\n",
      "47/47 [==============================] - 0s 3ms/step - loss: 0.0000e+00 - accuracy: 0.4658 - val_loss: 0.0000e+00 - val_accuracy: 0.5259\n",
      "Epoch 6/100\n",
      "47/47 [==============================] - 0s 3ms/step - loss: 0.0000e+00 - accuracy: 0.4658 - val_loss: 0.0000e+00 - val_accuracy: 0.5259\n",
      "Epoch 6: early stopping\n"
     ]
    }
   ],
   "source": [
    "#Lets fit the model and apply the epochs -\n",
    "model_history2 = classifier2.fit(X_train,y_train,batch_size=10,epochs=100,validation_split=0.33,callbacks = early_stopping)"
   ]
  },
  {
   "cell_type": "code",
   "execution_count": 42,
   "id": "5743b9e1",
   "metadata": {},
   "outputs": [
    {
     "name": "stdout",
     "output_type": "stream",
     "text": [
      "10/10 [==============================] - 0s 4ms/step\n"
     ]
    }
   ],
   "source": [
    "#Lets Predict the Results -\n",
    "predict_mann = classifier2.predict(X_test)\n",
    "predict_mann = predict_mann > 0.5"
   ]
  },
  {
   "cell_type": "code",
   "execution_count": 43,
   "id": "51f513dd",
   "metadata": {},
   "outputs": [
    {
     "name": "stdout",
     "output_type": "stream",
     "text": [
      "[[  0 140]\n",
      " [  0 160]]\n",
      "0.5333333333333333\n"
     ]
    }
   ],
   "source": [
    "#Lets Evaluate the results -\n",
    "from sklearn.metrics import accuracy_score,confusion_matrix\n",
    "print(confusion_matrix(y_test,predict_mann))\n",
    "print(accuracy_score(y_test,predict_mann))"
   ]
  },
  {
   "cell_type": "code",
   "execution_count": 44,
   "id": "60313aa3",
   "metadata": {},
   "outputs": [
    {
     "data": {
      "text/plain": [
       "dict_keys(['loss', 'accuracy', 'val_loss', 'val_accuracy'])"
      ]
     },
     "execution_count": 44,
     "metadata": {},
     "output_type": "execute_result"
    }
   ],
   "source": [
    "#Lets Visualize the results -\n",
    "model_history2.history.keys()"
   ]
  },
  {
   "cell_type": "code",
   "execution_count": 45,
   "id": "67e9293a",
   "metadata": {},
   "outputs": [
    {
     "data": {
      "text/plain": [
       "<matplotlib.legend.Legend at 0x13628912cd0>"
      ]
     },
     "execution_count": 45,
     "metadata": {},
     "output_type": "execute_result"
    },
    {
     "data": {
      "image/png": "[encoded data removed]",
      "text/plain": [
       "<Figure size 640x480 with 1 Axes>"
      ]
     },
     "metadata": {},
     "output_type": "display_data"
    }
   ],
   "source": [
    "#Lets Summarize history for accuracy -\n",
    "plt.plot(model_history2.history['accuracy'])\n",
    "plt.plot(model_history2.history['val_accuracy'])\n",
    "plt.title('model accuracy')\n",
    "plt.ylabel('accuracy')\n",
    "plt.xlabel('epoch')\n",
    "plt.legend(['train', 'test'], loc='upper left')"
   ]
  },
  {
   "cell_type": "code",
   "execution_count": 46,
   "id": "cf0e5767",
   "metadata": {},
   "outputs": [
    {
     "data": {
      "text/plain": [
       "<matplotlib.legend.Legend at 0x13639ff6b20>"
      ]
     },
     "execution_count": 46,
     "metadata": {},
     "output_type": "execute_result"
    },
    {
     "data": {
      "image/png": "[encoded data removed]",
      "text/plain": [
       "<Figure size 640x480 with 1 Axes>"
      ]
     },
     "metadata": {},
     "output_type": "display_data"
    }
   ],
   "source": [
    "#Lets summarize history for loss -\n",
    "plt.plot(model_history2.history['loss'])\n",
    "plt.plot(model_history2.history['val_loss'])\n",
    "plt.title('model loss')\n",
    "plt.ylabel('loss')\n",
    "plt.xlabel('epoch')\n",
    "plt.legend(['train', 'test'], loc='upper left')"
   ]
  },
  {
   "cell_type": "markdown",
   "id": "0a44c022",
   "metadata": {},
   "source": [
    "# Thank You..."
   ]
  }
 ],
 "metadata": {
  "kernelspec": {
   "display_name": "Python 3 (ipykernel)",
   "language": "python",
   "name": "python3"
  },
  "language_info": {
   "codemirror_mode": {
    "name": "ipython",
    "version": 3
   },
   "file_extension": ".py",
   "mimetype": "text/x-python",
   "name": "python",
   "nbconvert_exporter": "python",
   "pygments_lexer": "ipython3",
   "version": "3.9.13"
  }
 },
 "nbformat": 4,
 "nbformat_minor": 5
}
